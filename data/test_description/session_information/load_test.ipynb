{
 "cells": [
  {
   "cell_type": "code",
   "id": "initial_id",
   "metadata": {
    "collapsed": true,
    "ExecuteTime": {
     "end_time": "2024-06-20T22:49:28.794160Z",
     "start_time": "2024-06-20T22:49:27.867705Z"
    }
   },
   "source": [
    "import pandas as pd\n",
    "import numpy as np"
   ],
   "outputs": [],
   "execution_count": 1
  },
  {
   "metadata": {
    "ExecuteTime": {
     "end_time": "2024-06-20T22:51:10.016447Z",
     "start_time": "2024-06-20T22:51:09.997267Z"
    }
   },
   "cell_type": "code",
   "source": [
    "file_name = '2024-04-20.json'\n",
    "df = pd.read_json(file_name, orient='index')\n",
    "df.head()"
   ],
   "id": "fcc3a9472be00b3e",
   "outputs": [
    {
     "data": {
      "text/plain": [
       "  control_mode              description   driver  flag weather_condition  \\\n",
       "0         Rien                r2d spark  Unknown  None               Dry   \n",
       "1         Rien                r2d spark  Unknown  None               Dry   \n",
       "2         Rien                r2d spark  Unknown  None               Dry   \n",
       "3         Rien                r2d spark  Unknown  None               Dry   \n",
       "4         Rien  System id linear torque    Aubin  None               Dry   \n",
       "\n",
       "     end_date  \n",
       "0  2024-04-20  \n",
       "1  2024-04-20  \n",
       "2  2024-04-20  \n",
       "3  2024-04-20  \n",
       "4  2024-04-20  "
      ],
      "text/html": [
       "<div>\n",
       "<style scoped>\n",
       "    .dataframe tbody tr th:only-of-type {\n",
       "        vertical-align: middle;\n",
       "    }\n",
       "\n",
       "    .dataframe tbody tr th {\n",
       "        vertical-align: top;\n",
       "    }\n",
       "\n",
       "    .dataframe thead th {\n",
       "        text-align: right;\n",
       "    }\n",
       "</style>\n",
       "<table border=\"1\" class=\"dataframe\">\n",
       "  <thead>\n",
       "    <tr style=\"text-align: right;\">\n",
       "      <th></th>\n",
       "      <th>control_mode</th>\n",
       "      <th>description</th>\n",
       "      <th>driver</th>\n",
       "      <th>flag</th>\n",
       "      <th>weather_condition</th>\n",
       "      <th>end_date</th>\n",
       "    </tr>\n",
       "  </thead>\n",
       "  <tbody>\n",
       "    <tr>\n",
       "      <th>0</th>\n",
       "      <td>Rien</td>\n",
       "      <td>r2d spark</td>\n",
       "      <td>Unknown</td>\n",
       "      <td>None</td>\n",
       "      <td>Dry</td>\n",
       "      <td>2024-04-20</td>\n",
       "    </tr>\n",
       "    <tr>\n",
       "      <th>1</th>\n",
       "      <td>Rien</td>\n",
       "      <td>r2d spark</td>\n",
       "      <td>Unknown</td>\n",
       "      <td>None</td>\n",
       "      <td>Dry</td>\n",
       "      <td>2024-04-20</td>\n",
       "    </tr>\n",
       "    <tr>\n",
       "      <th>2</th>\n",
       "      <td>Rien</td>\n",
       "      <td>r2d spark</td>\n",
       "      <td>Unknown</td>\n",
       "      <td>None</td>\n",
       "      <td>Dry</td>\n",
       "      <td>2024-04-20</td>\n",
       "    </tr>\n",
       "    <tr>\n",
       "      <th>3</th>\n",
       "      <td>Rien</td>\n",
       "      <td>r2d spark</td>\n",
       "      <td>Unknown</td>\n",
       "      <td>None</td>\n",
       "      <td>Dry</td>\n",
       "      <td>2024-04-20</td>\n",
       "    </tr>\n",
       "    <tr>\n",
       "      <th>4</th>\n",
       "      <td>Rien</td>\n",
       "      <td>System id linear torque</td>\n",
       "      <td>Aubin</td>\n",
       "      <td>None</td>\n",
       "      <td>Dry</td>\n",
       "      <td>2024-04-20</td>\n",
       "    </tr>\n",
       "  </tbody>\n",
       "</table>\n",
       "</div>"
      ]
     },
     "execution_count": 4,
     "metadata": {},
     "output_type": "execute_result"
    }
   ],
   "execution_count": 4
  },
  {
   "metadata": {
    "ExecuteTime": {
     "end_time": "2024-06-20T22:49:28.834263Z",
     "start_time": "2024-06-20T22:49:28.830234Z"
    }
   },
   "cell_type": "code",
   "source": "\n",
   "id": "9f22a07d654e9b4b",
   "outputs": [],
   "execution_count": 2
  }
 ],
 "metadata": {
  "kernelspec": {
   "display_name": "Python 3",
   "language": "python",
   "name": "python3"
  },
  "language_info": {
   "codemirror_mode": {
    "name": "ipython",
    "version": 2
   },
   "file_extension": ".py",
   "mimetype": "text/x-python",
   "name": "python",
   "nbconvert_exporter": "python",
   "pygments_lexer": "ipython2",
   "version": "2.7.6"
  }
 },
 "nbformat": 4,
 "nbformat_minor": 5
}
