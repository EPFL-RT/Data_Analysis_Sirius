{
 "cells": [
  {
   "cell_type": "code",
   "id": "initial_id",
   "metadata": {
    "collapsed": true,
    "ExecuteTime": {
     "end_time": "2024-06-21T12:50:23.252363Z",
     "start_time": "2024-06-21T12:50:23.241941Z"
    }
   },
   "source": "import numpy as np",
   "outputs": [],
   "execution_count": 55
  },
  {
   "metadata": {
    "ExecuteTime": {
     "end_time": "2024-06-21T12:50:23.265484Z",
     "start_time": "2024-06-21T12:50:23.252363Z"
    }
   },
   "cell_type": "code",
   "source": "A_raw = np.array([[1, 1, 1, 1], [1, -1, 1, -1]], dtype=np.float64)",
   "id": "3ee443e8f03dd8e8",
   "outputs": [],
   "execution_count": 56
  },
  {
   "metadata": {
    "ExecuteTime": {
     "end_time": "2024-06-21T12:50:23.269950Z",
     "start_time": "2024-06-21T12:50:23.265484Z"
    }
   },
   "cell_type": "code",
   "source": [
    "Tmax = np.array([50, 50, 200, 200])\n",
    "Tcmd = 300 \n",
    "dT = 200\n",
    "\n",
    "A_norm = A_raw * Tmax \n",
    "goal = np.array([Tcmd, dT], dtype=np.float64)"
   ],
   "id": "15efa4c46209a274",
   "outputs": [],
   "execution_count": 57
  },
  {
   "metadata": {
    "ExecuteTime": {
     "end_time": "2024-06-21T12:50:23.283405Z",
     "start_time": "2024-06-21T12:50:23.269950Z"
    }
   },
   "cell_type": "code",
   "source": [
    "B = np.linalg.pinv(A_norm)\n",
    "res_norm = B @ goal\n",
    "res = res_norm * Tmax\n",
    "print(res_norm, sum(res_norm))\n",
    "print(res, sum(res))\n",
    "print(A_norm @ res_norm)\n",
    "print(A_raw @ res)"
   ],
   "id": "182d1349d22196c5",
   "outputs": [
    {
     "name": "stdout",
     "output_type": "stream",
     "text": [
      "[0.29411765 0.05882353 1.17647059 0.23529412] 1.7647058823529416\n",
      "[ 14.70588235   2.94117647 235.29411765  47.05882353] 300.0\n",
      "[300. 200.]\n",
      "[300. 200.]\n"
     ]
    }
   ],
   "execution_count": 58
  },
  {
   "metadata": {
    "ExecuteTime": {
     "end_time": "2024-06-21T12:50:23.288140Z",
     "start_time": "2024-06-21T12:50:23.283405Z"
    }
   },
   "cell_type": "code",
   "source": [
    "res_soft_max = np.exp(res_norm) / np.sum(np.exp(res_norm))\n",
    "print(res_soft_max, sum(res_soft_max))"
   ],
   "id": "40617ddcf1be488c",
   "outputs": [
    {
     "name": "stdout",
     "output_type": "stream",
     "text": [
      "[0.19418265 0.15347    0.46925774 0.18308961] 1.0\n"
     ]
    }
   ],
   "execution_count": 59
  }
 ],
 "metadata": {
  "kernelspec": {
   "display_name": "Python 3",
   "language": "python",
   "name": "python3"
  },
  "language_info": {
   "codemirror_mode": {
    "name": "ipython",
    "version": 2
   },
   "file_extension": ".py",
   "mimetype": "text/x-python",
   "name": "python",
   "nbconvert_exporter": "python",
   "pygments_lexer": "ipython2",
   "version": "2.7.6"
  }
 },
 "nbformat": 4,
 "nbformat_minor": 5
}
