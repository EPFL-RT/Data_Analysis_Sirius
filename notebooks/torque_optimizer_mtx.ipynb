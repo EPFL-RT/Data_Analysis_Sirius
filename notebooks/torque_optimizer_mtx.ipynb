{
 "cells": [
  {
   "cell_type": "code",
   "id": "initial_id",
   "metadata": {
    "collapsed": true,
    "ExecuteTime": {
     "end_time": "2024-06-23T14:31:15.729338Z",
     "start_time": "2024-06-23T14:31:15.700667Z"
    }
   },
   "source": [
    "import numpy as np\n",
    "from src.backend.state_estimation.config.vehicle_params import VehicleParams\n",
    "from src.backend.state_estimation.measurments.measurement_transformation.steering_to_wheel_angle import measure_delta_wheel_angle"
   ],
   "outputs": [],
   "execution_count": 38
  },
  {
   "metadata": {
    "ExecuteTime": {
     "end_time": "2024-06-23T14:31:15.737999Z",
     "start_time": "2024-06-23T14:31:15.729338Z"
    }
   },
   "cell_type": "code",
   "source": [
    "def moment_coefficients(steering: float):\n",
    "    delta = measure_delta_wheel_angle(steering)\n",
    "    lf = VehicleParams.lf\n",
    "    a2 = VehicleParams.a / 2\n",
    "    b2 = VehicleParams.b / 2\n",
    "    return np.array([\n",
    "        lf * np.sin(delta[0]) + a2 * np.cos(delta[0]), lf * np.sin(delta[1]) - a2 * np.cos(delta[1]), b2, -b2,\n",
    "    ])"
   ],
   "id": "8a9faa9e9e07c946",
   "outputs": [],
   "execution_count": 39
  },
  {
   "metadata": {
    "ExecuteTime": {
     "end_time": "2024-06-23T14:31:15.746701Z",
     "start_time": "2024-06-23T14:31:15.739040Z"
    }
   },
   "cell_type": "code",
   "source": [
    "Tmax = np.array([50, 50, 200, 200])\n",
    "Tcmd = 300 \n",
    "dT = 200"
   ],
   "id": "de0ff61633b8e656",
   "outputs": [],
   "execution_count": 40
  },
  {
   "metadata": {
    "ExecuteTime": {
     "end_time": "2024-06-23T14:31:15.758029Z",
     "start_time": "2024-06-23T14:31:15.746701Z"
    }
   },
   "cell_type": "code",
   "source": [
    "A_raw = np.array([moment_coefficients(0)], dtype=np.float64)\n",
    "B_raw = np.linalg.pinv(A_raw)\n",
    "print(A_raw)\n",
    "print(B_raw)\n",
    "torques = B_raw @ np.array([dT], dtype=np.float64)\n",
    "print('Hello')\n",
    "print(torques)"
   ],
   "id": "3ee443e8f03dd8e8",
   "outputs": [
    {
     "name": "stdout",
     "output_type": "stream",
     "text": [
      "[[ 0.62051896 -0.62051896  0.62       -0.62      ]]\n",
      "[[ 0.40322567]\n",
      " [-0.40322567]\n",
      " [ 0.40288843]\n",
      " [-0.40288843]]\n",
      "Hello\n",
      "[ 80.64513306 -80.64513306  80.57768646 -80.57768646]\n"
     ]
    }
   ],
   "execution_count": 41
  },
  {
   "metadata": {
    "ExecuteTime": {
     "end_time": "2024-06-23T14:31:15.762649Z",
     "start_time": "2024-06-23T14:31:15.758029Z"
    }
   },
   "cell_type": "code",
   "source": [
    "Tmax = np.array([50, 50, 200, 200])\n",
    "Tcmd = 300 \n",
    "dT = 200\n",
    "A_raw = np.array([[1, 1, 1, 1], [1, -1, 1, -1]])\n",
    "A_norm = A_raw * Tmax \n",
    "goal = np.array([Tcmd, dT], dtype=np.float64)"
   ],
   "id": "15efa4c46209a274",
   "outputs": [],
   "execution_count": 42
  },
  {
   "metadata": {},
   "cell_type": "markdown",
   "source": "",
   "id": "ad8e49dbe44b5213"
  },
  {
   "metadata": {
    "ExecuteTime": {
     "end_time": "2024-06-23T14:31:15.770567Z",
     "start_time": "2024-06-23T14:31:15.762649Z"
    }
   },
   "cell_type": "code",
   "source": [
    "B = np.linalg.pinv(A_norm)\n",
    "print(A_norm)\n",
    "print(B)\n",
    "res_norm = B @ goal\n",
    "res = res_norm * Tmax\n",
    "print(res_norm, sum(res_norm))\n",
    "print(res, sum(res))\n",
    "print(A_norm @ res_norm)\n",
    "print(A_raw @ res)"
   ],
   "id": "182d1349d22196c5",
   "outputs": [
    {
     "name": "stdout",
     "output_type": "stream",
     "text": [
      "[[  50   50  200  200]\n",
      " [  50  -50  200 -200]]\n",
      "[[ 0.00058824  0.00058824]\n",
      " [ 0.00058824 -0.00058824]\n",
      " [ 0.00235294  0.00235294]\n",
      " [ 0.00235294 -0.00235294]]\n",
      "[0.29411765 0.05882353 1.17647059 0.23529412] 1.7647058823529416\n",
      "[ 14.70588235   2.94117647 235.29411765  47.05882353] 300.0\n",
      "[300. 200.]\n",
      "[300. 200.]\n"
     ]
    }
   ],
   "execution_count": 43
  },
  {
   "metadata": {
    "ExecuteTime": {
     "end_time": "2024-06-23T14:31:15.776393Z",
     "start_time": "2024-06-23T14:31:15.770567Z"
    }
   },
   "cell_type": "code",
   "source": [
    "res_soft_max = np.exp(res_norm) / np.sum(np.exp(res_norm))\n",
    "print(res_soft_max, sum(res_soft_max))"
   ],
   "id": "40617ddcf1be488c",
   "outputs": [
    {
     "name": "stdout",
     "output_type": "stream",
     "text": [
      "[0.19418265 0.15347    0.46925774 0.18308961] 1.0\n"
     ]
    }
   ],
   "execution_count": 44
  }
 ],
 "metadata": {
  "kernelspec": {
   "display_name": "Python 3",
   "language": "python",
   "name": "python3"
  },
  "language_info": {
   "codemirror_mode": {
    "name": "ipython",
    "version": 2
   },
   "file_extension": ".py",
   "mimetype": "text/x-python",
   "name": "python",
   "nbconvert_exporter": "python",
   "pygments_lexer": "ipython2",
   "version": "2.7.6"
  }
 },
 "nbformat": 4,
 "nbformat_minor": 5
}
